{
 "cells": [
  {
   "cell_type": "markdown",
   "id": "16700924",
   "metadata": {},
   "source": [
    "# Import libraries and data"
   ]
  },
  {
   "cell_type": "code",
   "execution_count": 129,
   "id": "7688ec5a",
   "metadata": {},
   "outputs": [],
   "source": [
    "import pandas as pd\n",
    "import matplotlib.pyplot as plt\n",
    "import re"
   ]
  },
  {
   "cell_type": "code",
   "execution_count": 130,
   "id": "e10da15b",
   "metadata": {},
   "outputs": [],
   "source": [
    "# Read in data and inspect\n",
    "df = pd.read_csv('superstore_data.csv')\n",
    "\n",
    "\n",
    "#df.head(3)\n",
    "#df.columns\n",
    "#df.describe()"
   ]
  },
  {
   "cell_type": "markdown",
   "id": "9673a763",
   "metadata": {},
   "source": [
    "# Data Cleanliness"
   ]
  },
  {
   "cell_type": "markdown",
   "id": "d688b849",
   "metadata": {},
   "source": [
    "#### Check for null values"
   ]
  },
  {
   "cell_type": "code",
   "execution_count": 131,
   "id": "683a0ee6",
   "metadata": {},
   "outputs": [
    {
     "data": {
      "text/html": [
       "<div>\n",
       "<style scoped>\n",
       "    .dataframe tbody tr th:only-of-type {\n",
       "        vertical-align: middle;\n",
       "    }\n",
       "\n",
       "    .dataframe tbody tr th {\n",
       "        vertical-align: top;\n",
       "    }\n",
       "\n",
       "    .dataframe thead th {\n",
       "        text-align: right;\n",
       "    }\n",
       "</style>\n",
       "<table border=\"1\" class=\"dataframe\">\n",
       "  <thead>\n",
       "    <tr style=\"text-align: right;\">\n",
       "      <th></th>\n",
       "      <th>Row ID</th>\n",
       "      <th>Order ID</th>\n",
       "      <th>Order Date</th>\n",
       "      <th>Ship Date</th>\n",
       "      <th>Ship Mode</th>\n",
       "      <th>Customer ID</th>\n",
       "      <th>Customer Name</th>\n",
       "      <th>Segment</th>\n",
       "      <th>Country</th>\n",
       "      <th>City</th>\n",
       "      <th>...</th>\n",
       "      <th>Postal Code</th>\n",
       "      <th>Region</th>\n",
       "      <th>Product ID</th>\n",
       "      <th>Category</th>\n",
       "      <th>Sub-Category</th>\n",
       "      <th>Product Name</th>\n",
       "      <th>Sales</th>\n",
       "      <th>Quantity</th>\n",
       "      <th>Discount</th>\n",
       "      <th>Profit</th>\n",
       "    </tr>\n",
       "  </thead>\n",
       "  <tbody>\n",
       "  </tbody>\n",
       "</table>\n",
       "<p>0 rows × 21 columns</p>\n",
       "</div>"
      ],
      "text/plain": [
       "Empty DataFrame\n",
       "Columns: [Row ID, Order ID, Order Date, Ship Date, Ship Mode, Customer ID, Customer Name, Segment, Country, City, State, Postal Code, Region, Product ID, Category, Sub-Category, Product Name, Sales, Quantity, Discount, Profit]\n",
       "Index: []\n",
       "\n",
       "[0 rows x 21 columns]"
      ]
     },
     "execution_count": 131,
     "metadata": {},
     "output_type": "execute_result"
    }
   ],
   "source": [
    "# Return any rows with null values\n",
    "df.loc[df.isna().any(axis = 1)]\n",
    "\n",
    "\n",
    "# No null values within dataset"
   ]
  },
  {
   "cell_type": "markdown",
   "id": "d01e0c0d",
   "metadata": {},
   "source": [
    "#### Remove unecessary data"
   ]
  },
  {
   "cell_type": "code",
   "execution_count": 132,
   "id": "1331fdad",
   "metadata": {
    "scrolled": false
   },
   "outputs": [
    {
     "data": {
      "text/html": [
       "<div>\n",
       "<style scoped>\n",
       "    .dataframe tbody tr th:only-of-type {\n",
       "        vertical-align: middle;\n",
       "    }\n",
       "\n",
       "    .dataframe tbody tr th {\n",
       "        vertical-align: top;\n",
       "    }\n",
       "\n",
       "    .dataframe thead th {\n",
       "        text-align: right;\n",
       "    }\n",
       "</style>\n",
       "<table border=\"1\" class=\"dataframe\">\n",
       "  <thead>\n",
       "    <tr style=\"text-align: right;\">\n",
       "      <th></th>\n",
       "      <th>Order ID</th>\n",
       "      <th>Order Date</th>\n",
       "      <th>Ship Date</th>\n",
       "      <th>Ship Mode</th>\n",
       "      <th>Customer ID</th>\n",
       "      <th>Customer Name</th>\n",
       "      <th>Segment</th>\n",
       "      <th>Country</th>\n",
       "      <th>City</th>\n",
       "      <th>State</th>\n",
       "      <th>Postal Code</th>\n",
       "      <th>Region</th>\n",
       "      <th>Product ID</th>\n",
       "      <th>Category</th>\n",
       "      <th>Sub-Category</th>\n",
       "      <th>Product Name</th>\n",
       "      <th>Sales</th>\n",
       "      <th>Quantity</th>\n",
       "      <th>Discount</th>\n",
       "      <th>Profit</th>\n",
       "    </tr>\n",
       "  </thead>\n",
       "  <tbody>\n",
       "    <tr>\n",
       "      <th>0</th>\n",
       "      <td>CA-2016-152156</td>\n",
       "      <td>11/08/2016</td>\n",
       "      <td>11/11/2016</td>\n",
       "      <td>Second Class</td>\n",
       "      <td>CG-12520</td>\n",
       "      <td>Claire Gute</td>\n",
       "      <td>Consumer</td>\n",
       "      <td>United States</td>\n",
       "      <td>Henderson</td>\n",
       "      <td>Kentucky</td>\n",
       "      <td>42420</td>\n",
       "      <td>South</td>\n",
       "      <td>FUR-BO-10001798</td>\n",
       "      <td>Furniture</td>\n",
       "      <td>Bookcases</td>\n",
       "      <td>Bush Somerset Collection Bookcase</td>\n",
       "      <td>261.9600</td>\n",
       "      <td>2</td>\n",
       "      <td>0.00</td>\n",
       "      <td>41.9136</td>\n",
       "    </tr>\n",
       "    <tr>\n",
       "      <th>1</th>\n",
       "      <td>CA-2016-152156</td>\n",
       "      <td>11/08/2016</td>\n",
       "      <td>11/11/2016</td>\n",
       "      <td>Second Class</td>\n",
       "      <td>CG-12520</td>\n",
       "      <td>Claire Gute</td>\n",
       "      <td>Consumer</td>\n",
       "      <td>United States</td>\n",
       "      <td>Henderson</td>\n",
       "      <td>Kentucky</td>\n",
       "      <td>42420</td>\n",
       "      <td>South</td>\n",
       "      <td>FUR-CH-10000454</td>\n",
       "      <td>Furniture</td>\n",
       "      <td>Chairs</td>\n",
       "      <td>Hon Deluxe Fabric Upholstered Stacking Chairs,...</td>\n",
       "      <td>731.9400</td>\n",
       "      <td>3</td>\n",
       "      <td>0.00</td>\n",
       "      <td>219.5820</td>\n",
       "    </tr>\n",
       "    <tr>\n",
       "      <th>3</th>\n",
       "      <td>US-2015-108966</td>\n",
       "      <td>10/11/2015</td>\n",
       "      <td>10/18/2015</td>\n",
       "      <td>Standard Class</td>\n",
       "      <td>SO-20335</td>\n",
       "      <td>Sean O'Donnell</td>\n",
       "      <td>Consumer</td>\n",
       "      <td>United States</td>\n",
       "      <td>Fort Lauderdale</td>\n",
       "      <td>Florida</td>\n",
       "      <td>33311</td>\n",
       "      <td>South</td>\n",
       "      <td>FUR-TA-10000577</td>\n",
       "      <td>Furniture</td>\n",
       "      <td>Tables</td>\n",
       "      <td>Bretford CR4500 Series Slim Rectangular Table</td>\n",
       "      <td>957.5775</td>\n",
       "      <td>5</td>\n",
       "      <td>0.45</td>\n",
       "      <td>-383.0310</td>\n",
       "    </tr>\n",
       "  </tbody>\n",
       "</table>\n",
       "</div>"
      ],
      "text/plain": [
       "         Order ID  Order Date   Ship Date       Ship Mode Customer ID  \\\n",
       "0  CA-2016-152156  11/08/2016  11/11/2016    Second Class    CG-12520   \n",
       "1  CA-2016-152156  11/08/2016  11/11/2016    Second Class    CG-12520   \n",
       "3  US-2015-108966  10/11/2015  10/18/2015  Standard Class    SO-20335   \n",
       "\n",
       "    Customer Name   Segment        Country             City     State  \\\n",
       "0     Claire Gute  Consumer  United States        Henderson  Kentucky   \n",
       "1     Claire Gute  Consumer  United States        Henderson  Kentucky   \n",
       "3  Sean O'Donnell  Consumer  United States  Fort Lauderdale   Florida   \n",
       "\n",
       "   Postal Code Region       Product ID   Category Sub-Category  \\\n",
       "0        42420  South  FUR-BO-10001798  Furniture    Bookcases   \n",
       "1        42420  South  FUR-CH-10000454  Furniture       Chairs   \n",
       "3        33311  South  FUR-TA-10000577  Furniture       Tables   \n",
       "\n",
       "                                        Product Name     Sales  Quantity  \\\n",
       "0                  Bush Somerset Collection Bookcase  261.9600         2   \n",
       "1  Hon Deluxe Fabric Upholstered Stacking Chairs,...  731.9400         3   \n",
       "3      Bretford CR4500 Series Slim Rectangular Table  957.5775         5   \n",
       "\n",
       "   Discount    Profit  \n",
       "0      0.00   41.9136  \n",
       "1      0.00  219.5820  \n",
       "3      0.45 -383.0310  "
      ]
     },
     "execution_count": 132,
     "metadata": {},
     "output_type": "execute_result"
    }
   ],
   "source": [
    "# Row ID not needed as dataframe is indexed\n",
    "df.drop(['Row ID'], inplace = True, axis = 1)\n",
    "\n",
    "\n",
    "# We are aiming to analyse only consumer behaviour, dropping corporate and home office sales\n",
    "df['Segment'].unique()\n",
    "df_cons = df.loc[df['Segment'] == 'Consumer']\n",
    "\n",
    "\n",
    "df_cons.head(3)"
   ]
  },
  {
   "cell_type": "markdown",
   "id": "0ad7e835",
   "metadata": {},
   "source": [
    "# 1) Postal Data"
   ]
  },
  {
   "cell_type": "markdown",
   "id": "c1ecf46d",
   "metadata": {},
   "source": [
    "#### Prep data for analysis"
   ]
  },
  {
   "cell_type": "code",
   "execution_count": 133,
   "id": "55ffbf3d",
   "metadata": {},
   "outputs": [
    {
     "data": {
      "text/html": [
       "<div>\n",
       "<style scoped>\n",
       "    .dataframe tbody tr th:only-of-type {\n",
       "        vertical-align: middle;\n",
       "    }\n",
       "\n",
       "    .dataframe tbody tr th {\n",
       "        vertical-align: top;\n",
       "    }\n",
       "\n",
       "    .dataframe thead th {\n",
       "        text-align: right;\n",
       "    }\n",
       "</style>\n",
       "<table border=\"1\" class=\"dataframe\">\n",
       "  <thead>\n",
       "    <tr style=\"text-align: right;\">\n",
       "      <th></th>\n",
       "      <th>Order ID</th>\n",
       "      <th>Order Date</th>\n",
       "      <th>Ship Date</th>\n",
       "      <th>Ship Mode</th>\n",
       "      <th>State</th>\n",
       "    </tr>\n",
       "  </thead>\n",
       "  <tbody>\n",
       "    <tr>\n",
       "      <th>3</th>\n",
       "      <td>US-2015-108966</td>\n",
       "      <td>2015-10-11</td>\n",
       "      <td>2015-10-18</td>\n",
       "      <td>Standard Class</td>\n",
       "      <td>Florida</td>\n",
       "    </tr>\n",
       "    <tr>\n",
       "      <th>4</th>\n",
       "      <td>US-2015-108966</td>\n",
       "      <td>2015-10-11</td>\n",
       "      <td>2015-10-18</td>\n",
       "      <td>Standard Class</td>\n",
       "      <td>Florida</td>\n",
       "    </tr>\n",
       "    <tr>\n",
       "      <th>5</th>\n",
       "      <td>CA-2014-115812</td>\n",
       "      <td>2014-06-09</td>\n",
       "      <td>2014-06-14</td>\n",
       "      <td>Standard Class</td>\n",
       "      <td>California</td>\n",
       "    </tr>\n",
       "  </tbody>\n",
       "</table>\n",
       "</div>"
      ],
      "text/plain": [
       "         Order ID Order Date  Ship Date       Ship Mode       State\n",
       "3  US-2015-108966 2015-10-11 2015-10-18  Standard Class     Florida\n",
       "4  US-2015-108966 2015-10-11 2015-10-18  Standard Class     Florida\n",
       "5  CA-2014-115812 2014-06-09 2014-06-14  Standard Class  California"
      ]
     },
     "execution_count": 133,
     "metadata": {},
     "output_type": "execute_result"
    }
   ],
   "source": [
    "# Select data necessary for question, will be using standard class delivery for analysis\n",
    "df_post = df_cons.loc[df_cons['Ship Mode'] == 'Standard Class'][['Order ID', 'Order Date', 'Ship Date', 'Ship Mode', 'State']]\n",
    "\n",
    "\n",
    "# Check date columns are in datetime format\n",
    "df_post.dtypes  # Must convert to datetime\n",
    "\n",
    "\n",
    "# Convert to datetime\n",
    "df_post['Ship Date'] = pd.to_datetime(df_post['Ship Date'])\n",
    "df_post['Order Date'] = pd.to_datetime(df_post['Order Date'])\n",
    "\n",
    "\n",
    "# Check the datatype has changed as necessary\n",
    "df_post.dtypes\n",
    "\n",
    "\n",
    "df_post.head(3)"
   ]
  },
  {
   "cell_type": "markdown",
   "id": "ca25ccc1",
   "metadata": {},
   "source": [
    "#### Analysis"
   ]
  },
  {
   "cell_type": "code",
   "execution_count": 150,
   "id": "1a253a2d",
   "metadata": {},
   "outputs": [
    {
     "data": {
      "text/html": [
       "<div>\n",
       "<style scoped>\n",
       "    .dataframe tbody tr th:only-of-type {\n",
       "        vertical-align: middle;\n",
       "    }\n",
       "\n",
       "    .dataframe tbody tr th {\n",
       "        vertical-align: top;\n",
       "    }\n",
       "\n",
       "    .dataframe thead th {\n",
       "        text-align: right;\n",
       "    }\n",
       "</style>\n",
       "<table border=\"1\" class=\"dataframe\">\n",
       "  <thead>\n",
       "    <tr style=\"text-align: right;\">\n",
       "      <th></th>\n",
       "      <th>State</th>\n",
       "      <th>Avg Standard Delivery</th>\n",
       "    </tr>\n",
       "  </thead>\n",
       "  <tbody>\n",
       "    <tr>\n",
       "      <th>0</th>\n",
       "      <td>Alabama</td>\n",
       "      <td>5.1</td>\n",
       "    </tr>\n",
       "    <tr>\n",
       "      <th>1</th>\n",
       "      <td>Arizona</td>\n",
       "      <td>5.1</td>\n",
       "    </tr>\n",
       "    <tr>\n",
       "      <th>2</th>\n",
       "      <td>Arkansas</td>\n",
       "      <td>5.5</td>\n",
       "    </tr>\n",
       "  </tbody>\n",
       "</table>\n",
       "</div>"
      ],
      "text/plain": [
       "      State  Avg Standard Delivery\n",
       "0   Alabama                    5.1\n",
       "1   Arizona                    5.1\n",
       "2  Arkansas                    5.5"
      ]
     },
     "execution_count": 150,
     "metadata": {},
     "output_type": "execute_result"
    }
   ],
   "source": [
    "# Create Delivery time collumn as the days taken, set to integers\n",
    "df_post['Delivery Time'] = (df_post['Ship Date'] - df_post['Order Date']).astype('str').apply(lambda x: x.split(' ')[0]).astype('int32')\n",
    "\n",
    "\n",
    "# Drop repeat order id's to get unique deliveries\n",
    "df_post = df_post.drop_duplicates(subset = 'Order ID')\n",
    "\n",
    "len(df_post)\n",
    "\n",
    "\n",
    "# Find average delivery time by state\n",
    "delivery_time = df_post.groupby('State').mean().round(1)['Delivery Time'].to_frame('Avg Standard Delivery').reset_index()\n",
    "delivery_time.head(3)"
   ]
  },
  {
   "cell_type": "markdown",
   "id": "7ee34efa",
   "metadata": {},
   "source": [
    "#### Export data for visualisation"
   ]
  },
  {
   "cell_type": "code",
   "execution_count": 135,
   "id": "206df0b0",
   "metadata": {},
   "outputs": [],
   "source": [
    "delivery_time.to_csv('delivery_time.csv')"
   ]
  },
  {
   "cell_type": "markdown",
   "id": "01d986bb",
   "metadata": {},
   "source": [
    "## Addition of data for further analysis"
   ]
  },
  {
   "cell_type": "code",
   "execution_count": 136,
   "id": "d99c2535",
   "metadata": {},
   "outputs": [
    {
     "data": {
      "text/plain": [
       "2016.0"
      ]
     },
     "execution_count": 136,
     "metadata": {},
     "output_type": "execute_result"
    }
   ],
   "source": [
    "# Find the average year of each order to be used as the time period for sourcing further data\n",
    "df_post['Year'] = df_post['Order Date'].dt.year\n",
    "df_post['Year'].mean().round(0)\n",
    "\n",
    "# In reality is difficult to find all necessary data from 2016"
   ]
  },
  {
   "cell_type": "markdown",
   "id": "aed3ec86",
   "metadata": {},
   "source": [
    "#### Read in additional information and merge dataframes"
   ]
  },
  {
   "cell_type": "code",
   "execution_count": 137,
   "id": "7e2ef8dd",
   "metadata": {
    "scrolled": true
   },
   "outputs": [
    {
     "data": {
      "text/html": [
       "<div>\n",
       "<style scoped>\n",
       "    .dataframe tbody tr th:only-of-type {\n",
       "        vertical-align: middle;\n",
       "    }\n",
       "\n",
       "    .dataframe tbody tr th {\n",
       "        vertical-align: top;\n",
       "    }\n",
       "\n",
       "    .dataframe thead th {\n",
       "        text-align: right;\n",
       "    }\n",
       "</style>\n",
       "<table border=\"1\" class=\"dataframe\">\n",
       "  <thead>\n",
       "    <tr style=\"text-align: right;\">\n",
       "      <th></th>\n",
       "      <th>State</th>\n",
       "      <th>Avg Standard Delivery</th>\n",
       "      <th>Number of Post Offices</th>\n",
       "      <th>Population</th>\n",
       "      <th>POs per 100,000 People</th>\n",
       "    </tr>\n",
       "  </thead>\n",
       "  <tbody>\n",
       "    <tr>\n",
       "      <th>8</th>\n",
       "      <td>Florida</td>\n",
       "      <td>5.2</td>\n",
       "      <td>750.0</td>\n",
       "      <td>21477737.0</td>\n",
       "      <td>3.5</td>\n",
       "    </tr>\n",
       "    <tr>\n",
       "      <th>1</th>\n",
       "      <td>Arizona</td>\n",
       "      <td>5.1</td>\n",
       "      <td>265.0</td>\n",
       "      <td>7278717.0</td>\n",
       "      <td>3.6</td>\n",
       "    </tr>\n",
       "    <tr>\n",
       "      <th>3</th>\n",
       "      <td>California</td>\n",
       "      <td>5.0</td>\n",
       "      <td>1634.0</td>\n",
       "      <td>39512223.0</td>\n",
       "      <td>4.1</td>\n",
       "    </tr>\n",
       "  </tbody>\n",
       "</table>\n",
       "</div>"
      ],
      "text/plain": [
       "        State  Avg Standard Delivery  Number of Post Offices  Population  \\\n",
       "8     Florida                    5.2                   750.0  21477737.0   \n",
       "1     Arizona                    5.1                   265.0   7278717.0   \n",
       "3  California                    5.0                  1634.0  39512223.0   \n",
       "\n",
       "   POs per 100,000 People  \n",
       "8                     3.5  \n",
       "1                     3.6  \n",
       "3                     4.1  "
      ]
     },
     "execution_count": 137,
     "metadata": {},
     "output_type": "execute_result"
    }
   ],
   "source": [
    "states = pd.read_csv('state_information.csv')\n",
    "\n",
    "\n",
    "# Merge datasets and drop null values. Values sorted for matplotlib visualisation\n",
    "merged = pd.merge(delivery_time, states, how = 'left', left_on = 'State', right_on = 'State').dropna(how = 'any').sort_values('POs per 100,000 People')\n",
    "merged.head(3)"
   ]
  },
  {
   "cell_type": "code",
   "execution_count": 138,
   "id": "c536c646",
   "metadata": {},
   "outputs": [
    {
     "data": {
      "image/png": "[encoded data removed]",
      "text/plain": [
       "<Figure size 432x288 with 1 Axes>"
      ]
     },
     "metadata": {
      "needs_background": "light"
     },
     "output_type": "display_data"
    }
   ],
   "source": [
    "# Use matplotlib to quickly assess relationships prior to using Tableu\n",
    "# A more detailed graph with nice formatting could be used but is not necessary as final visualisation is in tableu\n",
    "\n",
    "x = merged['POs per 100,000 People']\n",
    "y = merged['Avg Standard Delivery']\n",
    "\n",
    "plt.plot(x,y)\n",
    "plt.show()"
   ]
  },
  {
   "cell_type": "markdown",
   "id": "1468e2ad",
   "metadata": {},
   "source": [
    "#### Export for visualisation"
   ]
  },
  {
   "cell_type": "code",
   "execution_count": 139,
   "id": "c1f0be4f",
   "metadata": {},
   "outputs": [],
   "source": [
    "merged.to_csv('states_correlations.csv')"
   ]
  },
  {
   "cell_type": "markdown",
   "id": "5470b0c0",
   "metadata": {},
   "source": [
    "# 2) Products"
   ]
  },
  {
   "cell_type": "markdown",
   "id": "71a31b2a",
   "metadata": {},
   "source": [
    "## 2a) Find the top 10 sub-categories for average time between purchases for repeat purchasers. Use all sub-categories for visualisation."
   ]
  },
  {
   "cell_type": "markdown",
   "id": "0a8122a3",
   "metadata": {},
   "source": [
    "#### Data Preperation"
   ]
  },
  {
   "cell_type": "code",
   "execution_count": 140,
   "id": "d3b3a7d4",
   "metadata": {},
   "outputs": [
    {
     "name": "stderr",
     "output_type": "stream",
     "text": [
      "/var/folders/gx/s7xsfs7d331bdyr5z5jpbk1w0000gn/T/ipykernel_72629/4220029809.py:3: SettingWithCopyWarning: \n",
      "A value is trying to be set on a copy of a slice from a DataFrame.\n",
      "Try using .loc[row_indexer,col_indexer] = value instead\n",
      "\n",
      "See the caveats in the documentation: https://pandas.pydata.org/pandas-docs/stable/user_guide/indexing.html#returning-a-view-versus-a-copy\n",
      "  df_rep['Order Date'] = pd.to_datetime(df_rep['Order Date'])\n"
     ]
    },
    {
     "data": {
      "text/html": [
       "<div>\n",
       "<style scoped>\n",
       "    .dataframe tbody tr th:only-of-type {\n",
       "        vertical-align: middle;\n",
       "    }\n",
       "\n",
       "    .dataframe tbody tr th {\n",
       "        vertical-align: top;\n",
       "    }\n",
       "\n",
       "    .dataframe thead th {\n",
       "        text-align: right;\n",
       "    }\n",
       "</style>\n",
       "<table border=\"1\" class=\"dataframe\">\n",
       "  <thead>\n",
       "    <tr style=\"text-align: right;\">\n",
       "      <th></th>\n",
       "      <th>Order ID</th>\n",
       "      <th>Customer ID</th>\n",
       "      <th>Order Date</th>\n",
       "      <th>Sub-Category</th>\n",
       "      <th>Category</th>\n",
       "      <th>Previous Order Date</th>\n",
       "      <th>Time Difference</th>\n",
       "    </tr>\n",
       "  </thead>\n",
       "  <tbody>\n",
       "    <tr>\n",
       "      <th>7468</th>\n",
       "      <td>CA-2014-138100</td>\n",
       "      <td>AA-10315</td>\n",
       "      <td>2014-09-15</td>\n",
       "      <td>Paper</td>\n",
       "      <td>Office Supplies</td>\n",
       "      <td>2014-03-31</td>\n",
       "      <td>168</td>\n",
       "    </tr>\n",
       "    <tr>\n",
       "      <th>1299</th>\n",
       "      <td>CA-2015-121391</td>\n",
       "      <td>AA-10315</td>\n",
       "      <td>2015-10-04</td>\n",
       "      <td>Storage</td>\n",
       "      <td>Office Supplies</td>\n",
       "      <td>2014-09-15</td>\n",
       "      <td>384</td>\n",
       "    </tr>\n",
       "    <tr>\n",
       "      <th>5198</th>\n",
       "      <td>CA-2016-103982</td>\n",
       "      <td>AA-10315</td>\n",
       "      <td>2016-03-03</td>\n",
       "      <td>Supplies</td>\n",
       "      <td>Office Supplies</td>\n",
       "      <td>2015-10-04</td>\n",
       "      <td>151</td>\n",
       "    </tr>\n",
       "    <tr>\n",
       "      <th>1159</th>\n",
       "      <td>CA-2017-147039</td>\n",
       "      <td>AA-10315</td>\n",
       "      <td>2017-06-29</td>\n",
       "      <td>Appliances</td>\n",
       "      <td>Office Supplies</td>\n",
       "      <td>2016-03-03</td>\n",
       "      <td>483</td>\n",
       "    </tr>\n",
       "    <tr>\n",
       "      <th>3007</th>\n",
       "      <td>CA-2014-130729</td>\n",
       "      <td>AA-10375</td>\n",
       "      <td>2014-10-24</td>\n",
       "      <td>Binders</td>\n",
       "      <td>Office Supplies</td>\n",
       "      <td>2014-04-21</td>\n",
       "      <td>186</td>\n",
       "    </tr>\n",
       "  </tbody>\n",
       "</table>\n",
       "</div>"
      ],
      "text/plain": [
       "            Order ID Customer ID Order Date Sub-Category         Category  \\\n",
       "7468  CA-2014-138100    AA-10315 2014-09-15        Paper  Office Supplies   \n",
       "1299  CA-2015-121391    AA-10315 2015-10-04      Storage  Office Supplies   \n",
       "5198  CA-2016-103982    AA-10315 2016-03-03     Supplies  Office Supplies   \n",
       "1159  CA-2017-147039    AA-10315 2017-06-29   Appliances  Office Supplies   \n",
       "3007  CA-2014-130729    AA-10375 2014-10-24      Binders  Office Supplies   \n",
       "\n",
       "     Previous Order Date  Time Difference  \n",
       "7468          2014-03-31              168  \n",
       "1299          2014-09-15              384  \n",
       "5198          2015-10-04              151  \n",
       "1159          2016-03-03              483  \n",
       "3007          2014-04-21              186  "
      ]
     },
     "execution_count": 140,
     "metadata": {},
     "output_type": "execute_result"
    }
   ],
   "source": [
    "# Select the relevant collumns and change necessary datatypes\n",
    "df_rep = df_cons[['Order ID', 'Customer ID', 'Order Date', 'Sub-Category', 'Category']]\n",
    "df_rep['Order Date'] = pd.to_datetime(df_rep['Order Date'])\n",
    "\n",
    "\n",
    "# Select only unique orders\n",
    "df_rep = df_rep.drop_duplicates(subset = 'Order ID').sort_values(['Customer ID', 'Order Date'], ascending = [True, True])\n",
    "\n",
    "\n",
    "# Create a collumn with the previous order date and drop the first order by each customer\n",
    "df_rep['Previous Order Date'] = df_rep.groupby('Customer ID')['Order Date'].shift(1)\n",
    "df_rep.dropna(how = 'any', inplace = True)\n",
    "\n",
    "\n",
    "# Calculate the time difference collumn \n",
    "df_rep['Time Difference'] = (df_rep['Order Date'] - df_rep['Previous Order Date']).astype('str').apply(lambda x: x.split(' ')[0]).astype('int32')\n",
    "df_rep.head(5)"
   ]
  },
  {
   "cell_type": "markdown",
   "id": "709e996b",
   "metadata": {},
   "source": [
    "#### Analysis"
   ]
  },
  {
   "cell_type": "code",
   "execution_count": 141,
   "id": "adc49a76",
   "metadata": {},
   "outputs": [],
   "source": [
    "# Find average time difference for each sub-category\n",
    "sub_time = df_rep.groupby('Sub-Category').mean().astype('int32')['Time Difference'].to_frame('Avg Time Between Purchases').reset_index()\n",
    "\n",
    "\n",
    "# Create a collumn ranking the times in decsending order\n",
    "sub_time['Rank'] = sub_time['Avg Time Between Purchases'].rank(method = 'min', ascending = False)\n",
    "\n",
    "\n",
    "# Order the rows by rank\n",
    "sub_rank = sub_time.sort_values('Rank')\n",
    "\n",
    "\n",
    "# Create a dataframe with the corresponding category for each sub category\n",
    "sub_to_cat = df_rep[['Sub-Category', 'Category']].drop_duplicates()\n"
   ]
  },
  {
   "cell_type": "code",
   "execution_count": 142,
   "id": "2c353103",
   "metadata": {},
   "outputs": [
    {
     "data": {
      "text/html": [
       "<div>\n",
       "<style scoped>\n",
       "    .dataframe tbody tr th:only-of-type {\n",
       "        vertical-align: middle;\n",
       "    }\n",
       "\n",
       "    .dataframe tbody tr th {\n",
       "        vertical-align: top;\n",
       "    }\n",
       "\n",
       "    .dataframe thead th {\n",
       "        text-align: right;\n",
       "    }\n",
       "</style>\n",
       "<table border=\"1\" class=\"dataframe\">\n",
       "  <thead>\n",
       "    <tr style=\"text-align: right;\">\n",
       "      <th></th>\n",
       "      <th>Sub-Category</th>\n",
       "      <th>Avg Time Between Purchases</th>\n",
       "      <th>Rank</th>\n",
       "      <th>Category</th>\n",
       "    </tr>\n",
       "  </thead>\n",
       "  <tbody>\n",
       "    <tr>\n",
       "      <th>0</th>\n",
       "      <td>Machines</td>\n",
       "      <td>228</td>\n",
       "      <td>1.0</td>\n",
       "      <td>Technology</td>\n",
       "    </tr>\n",
       "    <tr>\n",
       "      <th>1</th>\n",
       "      <td>Tables</td>\n",
       "      <td>205</td>\n",
       "      <td>2.0</td>\n",
       "      <td>Furniture</td>\n",
       "    </tr>\n",
       "    <tr>\n",
       "      <th>2</th>\n",
       "      <td>Paper</td>\n",
       "      <td>205</td>\n",
       "      <td>2.0</td>\n",
       "      <td>Office Supplies</td>\n",
       "    </tr>\n",
       "    <tr>\n",
       "      <th>3</th>\n",
       "      <td>Furnishings</td>\n",
       "      <td>204</td>\n",
       "      <td>4.0</td>\n",
       "      <td>Furniture</td>\n",
       "    </tr>\n",
       "    <tr>\n",
       "      <th>4</th>\n",
       "      <td>Art</td>\n",
       "      <td>196</td>\n",
       "      <td>5.0</td>\n",
       "      <td>Office Supplies</td>\n",
       "    </tr>\n",
       "    <tr>\n",
       "      <th>5</th>\n",
       "      <td>Binders</td>\n",
       "      <td>193</td>\n",
       "      <td>6.0</td>\n",
       "      <td>Office Supplies</td>\n",
       "    </tr>\n",
       "    <tr>\n",
       "      <th>6</th>\n",
       "      <td>Bookcases</td>\n",
       "      <td>190</td>\n",
       "      <td>7.0</td>\n",
       "      <td>Furniture</td>\n",
       "    </tr>\n",
       "    <tr>\n",
       "      <th>7</th>\n",
       "      <td>Copiers</td>\n",
       "      <td>190</td>\n",
       "      <td>7.0</td>\n",
       "      <td>Technology</td>\n",
       "    </tr>\n",
       "    <tr>\n",
       "      <th>8</th>\n",
       "      <td>Storage</td>\n",
       "      <td>185</td>\n",
       "      <td>9.0</td>\n",
       "      <td>Office Supplies</td>\n",
       "    </tr>\n",
       "    <tr>\n",
       "      <th>9</th>\n",
       "      <td>Phones</td>\n",
       "      <td>184</td>\n",
       "      <td>10.0</td>\n",
       "      <td>Technology</td>\n",
       "    </tr>\n",
       "  </tbody>\n",
       "</table>\n",
       "</div>"
      ],
      "text/plain": [
       "  Sub-Category  Avg Time Between Purchases  Rank         Category\n",
       "0     Machines                         228   1.0       Technology\n",
       "1       Tables                         205   2.0        Furniture\n",
       "2        Paper                         205   2.0  Office Supplies\n",
       "3  Furnishings                         204   4.0        Furniture\n",
       "4          Art                         196   5.0  Office Supplies\n",
       "5      Binders                         193   6.0  Office Supplies\n",
       "6    Bookcases                         190   7.0        Furniture\n",
       "7      Copiers                         190   7.0       Technology\n",
       "8      Storage                         185   9.0  Office Supplies\n",
       "9       Phones                         184  10.0       Technology"
      ]
     },
     "execution_count": 142,
     "metadata": {},
     "output_type": "execute_result"
    }
   ],
   "source": [
    "# Add the corresponding category onto table for potential visualisation\n",
    "sub_merged = pd.merge(sub_rank, sub_to_cat, how = 'left', left_on = 'Sub-Category', right_on = 'Sub-Category')\n",
    "\n",
    "\n",
    "# Output the top 10 ranked sub-categories\n",
    "sub_merged.loc[sub_merged['Rank'] <= 10]"
   ]
  },
  {
   "cell_type": "markdown",
   "id": "cc9a1e29",
   "metadata": {},
   "source": [
    "#### Export data for visualisation"
   ]
  },
  {
   "cell_type": "code",
   "execution_count": 143,
   "id": "24b4b303",
   "metadata": {},
   "outputs": [],
   "source": [
    "sub_merged.to_csv('repeat_purchases.csv')"
   ]
  },
  {
   "cell_type": "markdown",
   "id": "65a0b138",
   "metadata": {},
   "source": [
    "## 2b) Proportion of discounted orders above 50% that belong to each sub-category"
   ]
  },
  {
   "cell_type": "code",
   "execution_count": 144,
   "id": "a1234d2a",
   "metadata": {},
   "outputs": [
    {
     "data": {
      "text/html": [
       "<div>\n",
       "<style scoped>\n",
       "    .dataframe tbody tr th:only-of-type {\n",
       "        vertical-align: middle;\n",
       "    }\n",
       "\n",
       "    .dataframe tbody tr th {\n",
       "        vertical-align: top;\n",
       "    }\n",
       "\n",
       "    .dataframe thead th {\n",
       "        text-align: right;\n",
       "    }\n",
       "</style>\n",
       "<table border=\"1\" class=\"dataframe\">\n",
       "  <thead>\n",
       "    <tr style=\"text-align: right;\">\n",
       "      <th></th>\n",
       "      <th>Category</th>\n",
       "      <th>Sub-Category</th>\n",
       "      <th>Count</th>\n",
       "    </tr>\n",
       "  </thead>\n",
       "  <tbody>\n",
       "    <tr>\n",
       "      <th>0</th>\n",
       "      <td>Furniture</td>\n",
       "      <td>Bookcases</td>\n",
       "      <td>12</td>\n",
       "    </tr>\n",
       "    <tr>\n",
       "      <th>1</th>\n",
       "      <td>Furniture</td>\n",
       "      <td>Furnishings</td>\n",
       "      <td>36</td>\n",
       "    </tr>\n",
       "    <tr>\n",
       "      <th>2</th>\n",
       "      <td>Furniture</td>\n",
       "      <td>Tables</td>\n",
       "      <td>15</td>\n",
       "    </tr>\n",
       "    <tr>\n",
       "      <th>3</th>\n",
       "      <td>Office Supplies</td>\n",
       "      <td>Appliances</td>\n",
       "      <td>23</td>\n",
       "    </tr>\n",
       "    <tr>\n",
       "      <th>4</th>\n",
       "      <td>Office Supplies</td>\n",
       "      <td>Binders</td>\n",
       "      <td>173</td>\n",
       "    </tr>\n",
       "    <tr>\n",
       "      <th>5</th>\n",
       "      <td>Technology</td>\n",
       "      <td>Machines</td>\n",
       "      <td>6</td>\n",
       "    </tr>\n",
       "  </tbody>\n",
       "</table>\n",
       "</div>"
      ],
      "text/plain": [
       "          Category Sub-Category  Count\n",
       "0        Furniture    Bookcases     12\n",
       "1        Furniture  Furnishings     36\n",
       "2        Furniture       Tables     15\n",
       "3  Office Supplies   Appliances     23\n",
       "4  Office Supplies      Binders    173\n",
       "5       Technology     Machines      6"
      ]
     },
     "execution_count": 144,
     "metadata": {},
     "output_type": "execute_result"
    }
   ],
   "source": [
    "# Obtain necessary collumns with unique orders\n",
    "df_dis = df_cons[['Order ID', 'Category', 'Sub-Category', 'Discount']].drop_duplicates(subset = 'Order ID')\n",
    "\n",
    "\n",
    "# Obtain all rows with 50% discount rate or greater\n",
    "sub_count = df_dis.loc[df_dis['Discount'] >= 0.5].groupby(['Category', 'Sub-Category']).count()['Order ID'].to_frame('Count').reset_index()\n",
    "\n",
    "\n",
    "sub_count"
   ]
  },
  {
   "cell_type": "markdown",
   "id": "498e9f55",
   "metadata": {},
   "source": [
    "#### Export for Visualisation"
   ]
  },
  {
   "cell_type": "code",
   "execution_count": 145,
   "id": "3835341c",
   "metadata": {},
   "outputs": [],
   "source": [
    "sub_count.to_csv('subcat_count.csv')"
   ]
  },
  {
   "cell_type": "markdown",
   "id": "60bc0f72",
   "metadata": {},
   "source": [
    "## 2c) Most popular item colours"
   ]
  },
  {
   "cell_type": "code",
   "execution_count": 146,
   "id": "eb2e527c",
   "metadata": {},
   "outputs": [
    {
     "data": {
      "text/html": [
       "<div>\n",
       "<style scoped>\n",
       "    .dataframe tbody tr th:only-of-type {\n",
       "        vertical-align: middle;\n",
       "    }\n",
       "\n",
       "    .dataframe tbody tr th {\n",
       "        vertical-align: top;\n",
       "    }\n",
       "\n",
       "    .dataframe thead th {\n",
       "        text-align: right;\n",
       "    }\n",
       "</style>\n",
       "<table border=\"1\" class=\"dataframe\">\n",
       "  <thead>\n",
       "    <tr style=\"text-align: right;\">\n",
       "      <th></th>\n",
       "      <th>Colour</th>\n",
       "      <th>Count</th>\n",
       "    </tr>\n",
       "  </thead>\n",
       "  <tbody>\n",
       "    <tr>\n",
       "      <th>0</th>\n",
       "      <td>Blue</td>\n",
       "      <td>104</td>\n",
       "    </tr>\n",
       "    <tr>\n",
       "      <th>1</th>\n",
       "      <td>Red</td>\n",
       "      <td>141</td>\n",
       "    </tr>\n",
       "    <tr>\n",
       "      <th>2</th>\n",
       "      <td>Gold</td>\n",
       "      <td>12</td>\n",
       "    </tr>\n",
       "    <tr>\n",
       "      <th>3</th>\n",
       "      <td>Silver</td>\n",
       "      <td>9</td>\n",
       "    </tr>\n",
       "    <tr>\n",
       "      <th>4</th>\n",
       "      <td>Orange</td>\n",
       "      <td>6</td>\n",
       "    </tr>\n",
       "    <tr>\n",
       "      <th>5</th>\n",
       "      <td>Yellow</td>\n",
       "      <td>13</td>\n",
       "    </tr>\n",
       "    <tr>\n",
       "      <th>6</th>\n",
       "      <td>Gray</td>\n",
       "      <td>64</td>\n",
       "    </tr>\n",
       "    <tr>\n",
       "      <th>7</th>\n",
       "      <td>Orange</td>\n",
       "      <td>6</td>\n",
       "    </tr>\n",
       "    <tr>\n",
       "      <th>8</th>\n",
       "      <td>Green</td>\n",
       "      <td>17</td>\n",
       "    </tr>\n",
       "    <tr>\n",
       "      <th>9</th>\n",
       "      <td>Purple</td>\n",
       "      <td>1</td>\n",
       "    </tr>\n",
       "    <tr>\n",
       "      <th>10</th>\n",
       "      <td>Pink</td>\n",
       "      <td>7</td>\n",
       "    </tr>\n",
       "    <tr>\n",
       "      <th>11</th>\n",
       "      <td>Black</td>\n",
       "      <td>248</td>\n",
       "    </tr>\n",
       "  </tbody>\n",
       "</table>\n",
       "</div>"
      ],
      "text/plain": [
       "    Colour  Count\n",
       "0     Blue    104\n",
       "1      Red    141\n",
       "2     Gold     12\n",
       "3   Silver      9\n",
       "4   Orange      6\n",
       "5   Yellow     13\n",
       "6     Gray     64\n",
       "7   Orange      6\n",
       "8    Green     17\n",
       "9   Purple      1\n",
       "10    Pink      7\n",
       "11   Black    248"
      ]
     },
     "execution_count": 146,
     "metadata": {},
     "output_type": "execute_result"
    }
   ],
   "source": [
    "# Set colours to serach for \n",
    "colours = ['Blue', 'Red', 'Gold', 'Silver', 'Orange', 'Yellow', 'Gray',\n",
    "          'Orange', 'Green', 'Purple', 'Pink', 'Black']\n",
    "\n",
    "\n",
    "# Define empty lists\n",
    "col = []\n",
    "quant = []\n",
    "\n",
    "\n",
    "# Loop through colours, appending each colour and the quantity into the empty lists\n",
    "for colour in colours:\n",
    "    count = len(df_cons.loc[df_cons['Product Name'].str.contains(colour, flags = re.I, regex = True)])\n",
    "    col.append(colour)\n",
    "    quant.append(count)\n",
    "\n",
    "\n",
    "# Create a new dataframe with the full lists\n",
    "col_count = pd.DataFrame(data = {'Colour' : col, 'Count' : quant})\n",
    "\n",
    "\n",
    "col_count"
   ]
  },
  {
   "cell_type": "markdown",
   "id": "7d83ee0a",
   "metadata": {},
   "source": [
    "#### Export for data visualisation"
   ]
  },
  {
   "cell_type": "code",
   "execution_count": 147,
   "id": "4a2e6dee",
   "metadata": {},
   "outputs": [],
   "source": [
    "col_count.to_csv('colour_quantities.csv')"
   ]
  },
  {
   "cell_type": "markdown",
   "id": "ad7701f2",
   "metadata": {},
   "source": [
    "#### Further code for analysis"
   ]
  },
  {
   "cell_type": "code",
   "execution_count": 148,
   "id": "fa3cf5b4",
   "metadata": {},
   "outputs": [
    {
     "data": {
      "text/plain": [
       "array(['Bookcases', 'Tables', 'Machines'], dtype=object)"
      ]
     },
     "execution_count": 148,
     "metadata": {},
     "output_type": "execute_result"
    }
   ],
   "source": [
    "# Output Sub-Categories available at different discounts\n",
    "df_cons.loc[df_cons['Discount'] == 0.5]['Sub-Category'].unique()"
   ]
  },
  {
   "cell_type": "code",
   "execution_count": 149,
   "id": "d7ea9532",
   "metadata": {},
   "outputs": [
    {
     "name": "stderr",
     "output_type": "stream",
     "text": [
      "/var/folders/gx/s7xsfs7d331bdyr5z5jpbk1w0000gn/T/ipykernel_72629/1375204296.py:2: SettingWithCopyWarning: \n",
      "A value is trying to be set on a copy of a slice from a DataFrame.\n",
      "Try using .loc[row_indexer,col_indexer] = value instead\n",
      "\n",
      "See the caveats in the documentation: https://pandas.pydata.org/pandas-docs/stable/user_guide/indexing.html#returning-a-view-versus-a-copy\n",
      "  df_cons['Cost'] = df_cons['Sales']/df_cons['Quantity']\n"
     ]
    },
    {
     "data": {
      "text/html": [
       "<div>\n",
       "<style scoped>\n",
       "    .dataframe tbody tr th:only-of-type {\n",
       "        vertical-align: middle;\n",
       "    }\n",
       "\n",
       "    .dataframe tbody tr th {\n",
       "        vertical-align: top;\n",
       "    }\n",
       "\n",
       "    .dataframe thead th {\n",
       "        text-align: right;\n",
       "    }\n",
       "</style>\n",
       "<table border=\"1\" class=\"dataframe\">\n",
       "  <thead>\n",
       "    <tr style=\"text-align: right;\">\n",
       "      <th></th>\n",
       "      <th>Sub-Category</th>\n",
       "      <th>Cost</th>\n",
       "    </tr>\n",
       "  </thead>\n",
       "  <tbody>\n",
       "    <tr>\n",
       "      <th>0</th>\n",
       "      <td>Accessories</td>\n",
       "      <td>55.903299</td>\n",
       "    </tr>\n",
       "    <tr>\n",
       "      <th>1</th>\n",
       "      <td>Appliances</td>\n",
       "      <td>58.256025</td>\n",
       "    </tr>\n",
       "    <tr>\n",
       "      <th>2</th>\n",
       "      <td>Art</td>\n",
       "      <td>8.894921</td>\n",
       "    </tr>\n",
       "    <tr>\n",
       "      <th>3</th>\n",
       "      <td>Binders</td>\n",
       "      <td>39.216497</td>\n",
       "    </tr>\n",
       "    <tr>\n",
       "      <th>4</th>\n",
       "      <td>Bookcases</td>\n",
       "      <td>134.259070</td>\n",
       "    </tr>\n",
       "    <tr>\n",
       "      <th>5</th>\n",
       "      <td>Chairs</td>\n",
       "      <td>136.363003</td>\n",
       "    </tr>\n",
       "    <tr>\n",
       "      <th>6</th>\n",
       "      <td>Copiers</td>\n",
       "      <td>591.991943</td>\n",
       "    </tr>\n",
       "    <tr>\n",
       "      <th>7</th>\n",
       "      <td>Envelopes</td>\n",
       "      <td>19.096729</td>\n",
       "    </tr>\n",
       "    <tr>\n",
       "      <th>8</th>\n",
       "      <td>Fasteners</td>\n",
       "      <td>3.436105</td>\n",
       "    </tr>\n",
       "    <tr>\n",
       "      <th>9</th>\n",
       "      <td>Furnishings</td>\n",
       "      <td>26.821024</td>\n",
       "    </tr>\n",
       "    <tr>\n",
       "      <th>10</th>\n",
       "      <td>Labels</td>\n",
       "      <td>8.766751</td>\n",
       "    </tr>\n",
       "    <tr>\n",
       "      <th>11</th>\n",
       "      <td>Machines</td>\n",
       "      <td>351.143754</td>\n",
       "    </tr>\n",
       "    <tr>\n",
       "      <th>12</th>\n",
       "      <td>Paper</td>\n",
       "      <td>14.693732</td>\n",
       "    </tr>\n",
       "    <tr>\n",
       "      <th>13</th>\n",
       "      <td>Phones</td>\n",
       "      <td>101.058665</td>\n",
       "    </tr>\n",
       "    <tr>\n",
       "      <th>14</th>\n",
       "      <td>Storage</td>\n",
       "      <td>62.308342</td>\n",
       "    </tr>\n",
       "    <tr>\n",
       "      <th>15</th>\n",
       "      <td>Supplies</td>\n",
       "      <td>71.806220</td>\n",
       "    </tr>\n",
       "    <tr>\n",
       "      <th>16</th>\n",
       "      <td>Tables</td>\n",
       "      <td>161.578538</td>\n",
       "    </tr>\n",
       "  </tbody>\n",
       "</table>\n",
       "</div>"
      ],
      "text/plain": [
       "   Sub-Category        Cost\n",
       "0   Accessories   55.903299\n",
       "1    Appliances   58.256025\n",
       "2           Art    8.894921\n",
       "3       Binders   39.216497\n",
       "4     Bookcases  134.259070\n",
       "5        Chairs  136.363003\n",
       "6       Copiers  591.991943\n",
       "7     Envelopes   19.096729\n",
       "8     Fasteners    3.436105\n",
       "9   Furnishings   26.821024\n",
       "10       Labels    8.766751\n",
       "11     Machines  351.143754\n",
       "12        Paper   14.693732\n",
       "13       Phones  101.058665\n",
       "14      Storage   62.308342\n",
       "15     Supplies   71.806220\n",
       "16       Tables  161.578538"
      ]
     },
     "execution_count": 149,
     "metadata": {},
     "output_type": "execute_result"
    }
   ],
   "source": [
    "# Find the average cost of each Sub-Category\n",
    "df_cons['Cost'] = df_cons['Sales']/df_cons['Quantity']\n",
    "df_cons.groupby('Sub-Category').mean()['Cost'].reset_index()"
   ]
  }
 ],
 "metadata": {
  "kernelspec": {
   "display_name": "Python 3 (ipykernel)",
   "language": "python",
   "name": "python3"
  },
  "language_info": {
   "codemirror_mode": {
    "name": "ipython",
    "version": 3
   },
   "file_extension": ".py",
   "mimetype": "text/x-python",
   "name": "python",
   "nbconvert_exporter": "python",
   "pygments_lexer": "ipython3",
   "version": "3.10.2"
  }
 },
 "nbformat": 4,
 "nbformat_minor": 5
}
